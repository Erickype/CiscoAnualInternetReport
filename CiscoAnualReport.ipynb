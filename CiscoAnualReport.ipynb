{
  "nbformat": 4,
  "nbformat_minor": 0,
  "metadata": {
    "colab": {
      "provenance": [],
      "authorship_tag": "ABX9TyMXNPDZAoZY0fUo6n6uxqwb",
      "include_colab_link": true
    },
    "kernelspec": {
      "name": "python3",
      "display_name": "Python 3"
    },
    "language_info": {
      "name": "python"
    }
  },
  "cells": [
    {
      "cell_type": "markdown",
      "metadata": {
        "id": "view-in-github",
        "colab_type": "text"
      },
      "source": [
        "<a href=\"https://colab.research.google.com/github/Erickype/CiscoAnualInternetReport/blob/master/CiscoAnualReport.ipynb\" target=\"_parent\"><img src=\"https://colab.research.google.com/assets/colab-badge.svg\" alt=\"Open In Colab\"/></a>"
      ]
    },
    {
      "cell_type": "markdown",
      "source": [
        "## Instalation"
      ],
      "metadata": {
        "id": "HLgNlrNG427S"
      }
    },
    {
      "cell_type": "code",
      "execution_count": 16,
      "metadata": {
        "colab": {
          "base_uri": "https://localhost:8080/"
        },
        "id": "GXSC_ZCb4sd2",
        "outputId": "c756a37c-f5d1-4b1c-9257-fa86c05b52da"
      },
      "outputs": [
        {
          "output_type": "stream",
          "name": "stdout",
          "text": [
            "Requirement already satisfied: PyLaTeX in /usr/local/lib/python3.10/dist-packages (1.4.1)\n",
            "Requirement already satisfied: ordered-set in /usr/local/lib/python3.10/dist-packages (from PyLaTeX) (4.1.0)\n",
            "Requirement already satisfied: pylatex[matrices] in /usr/local/lib/python3.10/dist-packages (1.4.1)\n",
            "Requirement already satisfied: ordered-set in /usr/local/lib/python3.10/dist-packages (from pylatex[matrices]) (4.1.0)\n",
            "Requirement already satisfied: numpy in /usr/local/lib/python3.10/dist-packages (from pylatex[matrices]) (1.23.5)\n"
          ]
        }
      ],
      "source": [
        "!pip install PyLaTeX\n",
        "!pip install pylatex[matrices]"
      ]
    },
    {
      "cell_type": "markdown",
      "source": [
        "## Sections"
      ],
      "metadata": {
        "id": "70_HNgTjVjEs"
      }
    },
    {
      "cell_type": "markdown",
      "source": [
        "### Resumen"
      ],
      "metadata": {
        "id": "PQ9nvPFnVnv7"
      }
    },
    {
      "cell_type": "code",
      "source": [
        "class Resumen:\n",
        "  title = \"Resumen\"\n",
        "  text = \"Resumen ejecutivo del reporte anual de internet de Cisco\"\n",
        "\n",
        "resumen = Resumen()"
      ],
      "metadata": {
        "id": "TfZAJB9cVipS"
      },
      "execution_count": 24,
      "outputs": []
    },
    {
      "cell_type": "markdown",
      "source": [
        "## Document fill"
      ],
      "metadata": {
        "id": "twu31OP350df"
      }
    },
    {
      "cell_type": "code",
      "source": [
        "from pylatex import Document, Section, Subsection, Command\n",
        "from pylatex.utils import italic, NoEscape"
      ],
      "metadata": {
        "id": "dj__AVi-CsqV"
      },
      "execution_count": 25,
      "outputs": []
    },
    {
      "cell_type": "code",
      "source": [
        "def fill_document(doc):\n",
        "    with doc.create(Section(resumen.title)):\n",
        "        doc.append(resumen.text)"
      ],
      "metadata": {
        "id": "W-PDRNYyEf_-"
      },
      "execution_count": 26,
      "outputs": []
    },
    {
      "cell_type": "code",
      "source": [
        "if __name__ == '__main__':\n",
        "    # Document with `\\maketitle` command activated\n",
        "    doc = Document()\n",
        "\n",
        "    doc.preamble.append(Command('title', 'Análisis de reporte anual de internet de Cisco'))\n",
        "    doc.preamble.append(Command('author', 'Erick Carrasco'))\n",
        "    doc.preamble.append(Command('date', NoEscape(r'\\today')))\n",
        "    doc.append(NoEscape(r'\\maketitle'))\n",
        "\n",
        "    fill_document(doc)\n",
        "\n",
        "    doc.generate_pdf('report', clean_tex=False)"
      ],
      "metadata": {
        "id": "fHv1jlzUGaNI"
      },
      "execution_count": 27,
      "outputs": []
    },
    {
      "cell_type": "code",
      "source": [
        "from google.colab import files\n",
        "files.download(\"report.pdf\")"
      ],
      "metadata": {
        "colab": {
          "base_uri": "https://localhost:8080/",
          "height": 0
        },
        "id": "aoIdfLzqEtn3",
        "outputId": "bda11ee7-8f35-4e90-a06c-324995030f60"
      },
      "execution_count": 28,
      "outputs": [
        {
          "output_type": "display_data",
          "data": {
            "text/plain": [
              "<IPython.core.display.Javascript object>"
            ],
            "application/javascript": [
              "\n",
              "    async function download(id, filename, size) {\n",
              "      if (!google.colab.kernel.accessAllowed) {\n",
              "        return;\n",
              "      }\n",
              "      const div = document.createElement('div');\n",
              "      const label = document.createElement('label');\n",
              "      label.textContent = `Downloading \"${filename}\": `;\n",
              "      div.appendChild(label);\n",
              "      const progress = document.createElement('progress');\n",
              "      progress.max = size;\n",
              "      div.appendChild(progress);\n",
              "      document.body.appendChild(div);\n",
              "\n",
              "      const buffers = [];\n",
              "      let downloaded = 0;\n",
              "\n",
              "      const channel = await google.colab.kernel.comms.open(id);\n",
              "      // Send a message to notify the kernel that we're ready.\n",
              "      channel.send({})\n",
              "\n",
              "      for await (const message of channel.messages) {\n",
              "        // Send a message to notify the kernel that we're ready.\n",
              "        channel.send({})\n",
              "        if (message.buffers) {\n",
              "          for (const buffer of message.buffers) {\n",
              "            buffers.push(buffer);\n",
              "            downloaded += buffer.byteLength;\n",
              "            progress.value = downloaded;\n",
              "          }\n",
              "        }\n",
              "      }\n",
              "      const blob = new Blob(buffers, {type: 'application/binary'});\n",
              "      const a = document.createElement('a');\n",
              "      a.href = window.URL.createObjectURL(blob);\n",
              "      a.download = filename;\n",
              "      div.appendChild(a);\n",
              "      a.click();\n",
              "      div.remove();\n",
              "    }\n",
              "  "
            ]
          },
          "metadata": {}
        },
        {
          "output_type": "display_data",
          "data": {
            "text/plain": [
              "<IPython.core.display.Javascript object>"
            ],
            "application/javascript": [
              "download(\"download_0fb6a592-0488-46ca-8b16-0e5a7654d904\", \"report.pdf\", 97377)"
            ]
          },
          "metadata": {}
        }
      ]
    }
  ]
}