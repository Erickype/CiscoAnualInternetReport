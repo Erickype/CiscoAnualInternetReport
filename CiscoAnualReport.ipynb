{
  "nbformat": 4,
  "nbformat_minor": 0,
  "metadata": {
    "colab": {
      "provenance": [],
      "authorship_tag": "ABX9TyP+HlBYywnLSRjmFAcYA02m",
      "include_colab_link": true
    },
    "kernelspec": {
      "name": "python3",
      "display_name": "Python 3"
    },
    "language_info": {
      "name": "python"
    }
  },
  "cells": [
    {
      "cell_type": "markdown",
      "metadata": {
        "id": "view-in-github",
        "colab_type": "text"
      },
      "source": [
        "<a href=\"https://colab.research.google.com/github/Erickype/CiscoAnualInternetReport/blob/master/CiscoAnualReport.ipynb\" target=\"_parent\"><img src=\"https://colab.research.google.com/assets/colab-badge.svg\" alt=\"Open In Colab\"/></a>"
      ]
    },
    {
      "cell_type": "markdown",
      "source": [
        "## Instalation"
      ],
      "metadata": {
        "id": "HLgNlrNG427S"
      }
    },
    {
      "cell_type": "code",
      "source": [
        "! sudo apt-get update\n",
        "! sudo apt-get install texlive-latex-recommended\n",
        "! sudo apt-get install dvipng texlive-latex-extra texlive-fonts-recommended\n",
        "! wget http://mirrors.ctan.org/macros/latex/...\n",
        "! unzip type1cm.zip -d /tmp/type1cm\n",
        "! cd /tmp/type1cm/type1cm/ && sudo latex type1cm.ins\n",
        "! sudo mkdir /usr/share/texmf/tex/latex/type1cm\n",
        "! sudo cp /tmp/type1cm/type1cm/type1cm.sty /usr/share/texmf/tex/latex/type1cm\n",
        "! sudo texhash\n",
        "!apt install cm-super"
      ],
      "metadata": {
        "colab": {
          "base_uri": "https://localhost:8080/"
        },
        "id": "6cl6dKMt5XeR",
        "outputId": "bebf87c0-d52b-4438-e0f6-62e4d055b334"
      },
      "execution_count": 1,
      "outputs": [
        {
          "output_type": "stream",
          "name": "stdout",
          "text": [
            "Get:1 https://developer.download.nvidia.com/compute/cuda/repos/ubuntu2204/x86_64  InRelease [1,581 B]\n",
            "Get:2 https://developer.download.nvidia.com/compute/cuda/repos/ubuntu2204/x86_64  Packages [517 kB]\n",
            "Get:3 https://cloud.r-project.org/bin/linux/ubuntu jammy-cran40/ InRelease [3,626 B]\n",
            "Get:4 http://security.ubuntu.com/ubuntu jammy-security InRelease [110 kB]\n",
            "Hit:5 http://archive.ubuntu.com/ubuntu jammy InRelease\n",
            "Get:6 http://archive.ubuntu.com/ubuntu jammy-updates InRelease [119 kB]\n",
            "Get:7 https://ppa.launchpadcontent.net/c2d4u.team/c2d4u4.0+/ubuntu jammy InRelease [18.1 kB]\n",
            "Get:8 http://security.ubuntu.com/ubuntu jammy-security/multiverse amd64 Packages [44.0 kB]\n",
            "Get:9 http://security.ubuntu.com/ubuntu jammy-security/restricted amd64 Packages [1,144 kB]\n",
            "Get:10 http://archive.ubuntu.com/ubuntu jammy-backports InRelease [109 kB]\n",
            "Get:11 http://archive.ubuntu.com/ubuntu jammy-updates/main amd64 Packages [1,287 kB]\n",
            "Hit:12 https://ppa.launchpadcontent.net/deadsnakes/ppa/ubuntu jammy InRelease\n",
            "Get:13 http://security.ubuntu.com/ubuntu jammy-security/main amd64 Packages [1,016 kB]\n",
            "Get:14 http://archive.ubuntu.com/ubuntu jammy-updates/multiverse amd64 Packages [49.8 kB]\n",
            "Get:15 http://archive.ubuntu.com/ubuntu jammy-updates/restricted amd64 Packages [1,165 kB]\n",
            "Get:16 http://archive.ubuntu.com/ubuntu jammy-updates/universe amd64 Packages [1,264 kB]\n",
            "Get:17 https://ppa.launchpadcontent.net/graphics-drivers/ppa/ubuntu jammy InRelease [24.3 kB]\n",
            "Hit:18 https://ppa.launchpadcontent.net/ubuntugis/ppa/ubuntu jammy InRelease\n",
            "Get:19 https://ppa.launchpadcontent.net/c2d4u.team/c2d4u4.0+/ubuntu jammy/main Sources [2,197 kB]\n",
            "Get:20 https://ppa.launchpadcontent.net/c2d4u.team/c2d4u4.0+/ubuntu jammy/main amd64 Packages [1,128 kB]\n",
            "Get:21 https://ppa.launchpadcontent.net/graphics-drivers/ppa/ubuntu jammy/main amd64 Packages [37.7 kB]\n",
            "Fetched 10.2 MB in 10s (998 kB/s)\n",
            "Reading package lists... Done\n",
            "Reading package lists... Done\n",
            "Building dependency tree... Done\n",
            "Reading state information... Done\n",
            "The following additional packages will be installed:\n",
            "  dvisvgm fonts-droid-fallback fonts-lmodern fonts-noto-mono fonts-urw-base35\n",
            "  libfontenc1 libgs9 libgs9-common libidn12 libijs-0.35 libjbig2dec0\n",
            "  libkpathsea6 libptexenc1 libsynctex2 libteckit0 libtexlua53 libtexluajit2\n",
            "  libwoff1 libzzip-0-13 lmodern poppler-data t1utils tex-common texlive-base\n",
            "  texlive-binaries texlive-latex-base xfonts-encodings xfonts-utils\n",
            "Suggested packages:\n",
            "  fonts-noto fonts-freefont-otf | fonts-freefont-ttf fonts-texgyre\n",
            "  poppler-utils ghostscript fonts-japanese-mincho | fonts-ipafont-mincho\n",
            "  fonts-japanese-gothic | fonts-ipafont-gothic fonts-arphic-ukai\n",
            "  fonts-arphic-uming fonts-nanum debhelper gv | postscript-viewer perl-tk xpdf\n",
            "  | pdf-viewer xzdec texlive-latex-base-doc texlive-latex-recommended-doc\n",
            "  texlive-luatex texlive-pstricks\n",
            "The following NEW packages will be installed:\n",
            "  dvisvgm fonts-droid-fallback fonts-lmodern fonts-noto-mono fonts-urw-base35\n",
            "  libfontenc1 libgs9 libgs9-common libidn12 libijs-0.35 libjbig2dec0\n",
            "  libkpathsea6 libptexenc1 libsynctex2 libteckit0 libtexlua53 libtexluajit2\n",
            "  libwoff1 libzzip-0-13 lmodern poppler-data t1utils tex-common texlive-base\n",
            "  texlive-binaries texlive-latex-base texlive-latex-recommended\n",
            "  xfonts-encodings xfonts-utils\n",
            "0 upgraded, 29 newly installed, 0 to remove and 19 not upgraded.\n",
            "Need to get 80.1 MB of archives.\n",
            "After this operation, 254 MB of additional disk space will be used.\n",
            "Get:1 http://archive.ubuntu.com/ubuntu jammy/main amd64 fonts-droid-fallback all 1:6.0.1r16-1.1build1 [1,805 kB]\n",
            "Get:2 http://archive.ubuntu.com/ubuntu jammy/main amd64 poppler-data all 0.4.11-1 [2,171 kB]\n",
            "Get:3 http://archive.ubuntu.com/ubuntu jammy/universe amd64 tex-common all 6.17 [33.7 kB]\n",
            "Get:4 http://archive.ubuntu.com/ubuntu jammy/main amd64 fonts-urw-base35 all 20200910-1 [6,367 kB]\n",
            "Get:5 http://archive.ubuntu.com/ubuntu jammy-updates/main amd64 libgs9-common all 9.55.0~dfsg1-0ubuntu5.4 [752 kB]\n",
            "Get:6 http://archive.ubuntu.com/ubuntu jammy-updates/main amd64 libidn12 amd64 1.38-4ubuntu1 [60.0 kB]\n",
            "Get:7 http://archive.ubuntu.com/ubuntu jammy/main amd64 libijs-0.35 amd64 0.35-15build2 [16.5 kB]\n",
            "Get:8 http://archive.ubuntu.com/ubuntu jammy/main amd64 libjbig2dec0 amd64 0.19-3build2 [64.7 kB]\n",
            "Get:9 http://archive.ubuntu.com/ubuntu jammy-updates/main amd64 libgs9 amd64 9.55.0~dfsg1-0ubuntu5.4 [5,032 kB]\n",
            "Get:10 http://archive.ubuntu.com/ubuntu jammy-updates/main amd64 libkpathsea6 amd64 2021.20210626.59705-1ubuntu0.1 [60.3 kB]\n",
            "Get:11 http://archive.ubuntu.com/ubuntu jammy/main amd64 libwoff1 amd64 1.0.2-1build4 [45.2 kB]\n",
            "Get:12 http://archive.ubuntu.com/ubuntu jammy/universe amd64 dvisvgm amd64 2.13.1-1 [1,221 kB]\n",
            "Get:13 http://archive.ubuntu.com/ubuntu jammy/universe amd64 fonts-lmodern all 2.004.5-6.1 [4,532 kB]\n",
            "Get:14 http://archive.ubuntu.com/ubuntu jammy/main amd64 fonts-noto-mono all 20201225-1build1 [397 kB]\n",
            "Get:15 http://archive.ubuntu.com/ubuntu jammy/main amd64 libfontenc1 amd64 1:1.1.4-1build3 [14.7 kB]\n",
            "Get:16 http://archive.ubuntu.com/ubuntu jammy-updates/main amd64 libptexenc1 amd64 2021.20210626.59705-1ubuntu0.1 [39.1 kB]\n",
            "Get:17 http://archive.ubuntu.com/ubuntu jammy-updates/main amd64 libsynctex2 amd64 2021.20210626.59705-1ubuntu0.1 [55.5 kB]\n",
            "Get:18 http://archive.ubuntu.com/ubuntu jammy/universe amd64 libteckit0 amd64 2.5.11+ds1-1 [421 kB]\n",
            "Get:19 http://archive.ubuntu.com/ubuntu jammy-updates/main amd64 libtexlua53 amd64 2021.20210626.59705-1ubuntu0.1 [120 kB]\n",
            "Get:20 http://archive.ubuntu.com/ubuntu jammy-updates/main amd64 libtexluajit2 amd64 2021.20210626.59705-1ubuntu0.1 [267 kB]\n",
            "Get:21 http://archive.ubuntu.com/ubuntu jammy/universe amd64 libzzip-0-13 amd64 0.13.72+dfsg.1-1.1 [27.0 kB]\n",
            "Get:22 http://archive.ubuntu.com/ubuntu jammy/main amd64 xfonts-encodings all 1:1.0.5-0ubuntu2 [578 kB]\n",
            "Get:23 http://archive.ubuntu.com/ubuntu jammy/main amd64 xfonts-utils amd64 1:7.7+6build2 [94.6 kB]\n",
            "Get:24 http://archive.ubuntu.com/ubuntu jammy/universe amd64 lmodern all 2.004.5-6.1 [9,471 kB]\n",
            "Get:25 http://archive.ubuntu.com/ubuntu jammy/main amd64 t1utils amd64 1.41-4build2 [61.3 kB]\n",
            "Get:26 http://archive.ubuntu.com/ubuntu jammy-updates/universe amd64 texlive-binaries amd64 2021.20210626.59705-1ubuntu0.1 [9,848 kB]\n",
            "Get:27 http://archive.ubuntu.com/ubuntu jammy/universe amd64 texlive-base all 2021.20220204-1 [21.0 MB]\n",
            "Get:28 http://archive.ubuntu.com/ubuntu jammy/universe amd64 texlive-latex-base all 2021.20220204-1 [1,128 kB]\n",
            "Get:29 http://archive.ubuntu.com/ubuntu jammy/universe amd64 texlive-latex-recommended all 2021.20220204-1 [14.4 MB]\n",
            "Fetched 80.1 MB in 8s (9,875 kB/s)\n",
            "debconf: unable to initialize frontend: Dialog\n",
            "debconf: (No usable dialog-like program is installed, so the dialog based frontend cannot be used. at /usr/share/perl5/Debconf/FrontEnd/Dialog.pm line 78, <> line 29.)\n",
            "debconf: falling back to frontend: Readline\n",
            "debconf: unable to initialize frontend: Readline\n",
            "debconf: (This frontend requires a controlling tty.)\n",
            "debconf: falling back to frontend: Teletype\n",
            "dpkg-preconfigure: unable to re-open stdin: \n",
            "Selecting previously unselected package fonts-droid-fallback.\n",
            "(Reading database ... 120895 files and directories currently installed.)\n",
            "Preparing to unpack .../00-fonts-droid-fallback_1%3a6.0.1r16-1.1build1_all.deb ...\n",
            "Unpacking fonts-droid-fallback (1:6.0.1r16-1.1build1) ...\n",
            "Selecting previously unselected package poppler-data.\n",
            "Preparing to unpack .../01-poppler-data_0.4.11-1_all.deb ...\n",
            "Unpacking poppler-data (0.4.11-1) ...\n",
            "Selecting previously unselected package tex-common.\n",
            "Preparing to unpack .../02-tex-common_6.17_all.deb ...\n",
            "Unpacking tex-common (6.17) ...\n",
            "Selecting previously unselected package fonts-urw-base35.\n",
            "Preparing to unpack .../03-fonts-urw-base35_20200910-1_all.deb ...\n",
            "Unpacking fonts-urw-base35 (20200910-1) ...\n",
            "Selecting previously unselected package libgs9-common.\n",
            "Preparing to unpack .../04-libgs9-common_9.55.0~dfsg1-0ubuntu5.4_all.deb ...\n",
            "Unpacking libgs9-common (9.55.0~dfsg1-0ubuntu5.4) ...\n",
            "Selecting previously unselected package libidn12:amd64.\n",
            "Preparing to unpack .../05-libidn12_1.38-4ubuntu1_amd64.deb ...\n",
            "Unpacking libidn12:amd64 (1.38-4ubuntu1) ...\n",
            "Selecting previously unselected package libijs-0.35:amd64.\n",
            "Preparing to unpack .../06-libijs-0.35_0.35-15build2_amd64.deb ...\n",
            "Unpacking libijs-0.35:amd64 (0.35-15build2) ...\n",
            "Selecting previously unselected package libjbig2dec0:amd64.\n",
            "Preparing to unpack .../07-libjbig2dec0_0.19-3build2_amd64.deb ...\n",
            "Unpacking libjbig2dec0:amd64 (0.19-3build2) ...\n",
            "Selecting previously unselected package libgs9:amd64.\n",
            "Preparing to unpack .../08-libgs9_9.55.0~dfsg1-0ubuntu5.4_amd64.deb ...\n",
            "Unpacking libgs9:amd64 (9.55.0~dfsg1-0ubuntu5.4) ...\n",
            "Selecting previously unselected package libkpathsea6:amd64.\n",
            "Preparing to unpack .../09-libkpathsea6_2021.20210626.59705-1ubuntu0.1_amd64.deb ...\n",
            "Unpacking libkpathsea6:amd64 (2021.20210626.59705-1ubuntu0.1) ...\n",
            "Selecting previously unselected package libwoff1:amd64.\n",
            "Preparing to unpack .../10-libwoff1_1.0.2-1build4_amd64.deb ...\n",
            "Unpacking libwoff1:amd64 (1.0.2-1build4) ...\n",
            "Selecting previously unselected package dvisvgm.\n",
            "Preparing to unpack .../11-dvisvgm_2.13.1-1_amd64.deb ...\n",
            "Unpacking dvisvgm (2.13.1-1) ...\n",
            "Selecting previously unselected package fonts-lmodern.\n",
            "Preparing to unpack .../12-fonts-lmodern_2.004.5-6.1_all.deb ...\n",
            "Unpacking fonts-lmodern (2.004.5-6.1) ...\n",
            "Selecting previously unselected package fonts-noto-mono.\n",
            "Preparing to unpack .../13-fonts-noto-mono_20201225-1build1_all.deb ...\n",
            "Unpacking fonts-noto-mono (20201225-1build1) ...\n",
            "Selecting previously unselected package libfontenc1:amd64.\n",
            "Preparing to unpack .../14-libfontenc1_1%3a1.1.4-1build3_amd64.deb ...\n",
            "Unpacking libfontenc1:amd64 (1:1.1.4-1build3) ...\n",
            "Selecting previously unselected package libptexenc1:amd64.\n",
            "Preparing to unpack .../15-libptexenc1_2021.20210626.59705-1ubuntu0.1_amd64.deb ...\n",
            "Unpacking libptexenc1:amd64 (2021.20210626.59705-1ubuntu0.1) ...\n",
            "Selecting previously unselected package libsynctex2:amd64.\n",
            "Preparing to unpack .../16-libsynctex2_2021.20210626.59705-1ubuntu0.1_amd64.deb ...\n",
            "Unpacking libsynctex2:amd64 (2021.20210626.59705-1ubuntu0.1) ...\n",
            "Selecting previously unselected package libteckit0:amd64.\n",
            "Preparing to unpack .../17-libteckit0_2.5.11+ds1-1_amd64.deb ...\n",
            "Unpacking libteckit0:amd64 (2.5.11+ds1-1) ...\n",
            "Selecting previously unselected package libtexlua53:amd64.\n",
            "Preparing to unpack .../18-libtexlua53_2021.20210626.59705-1ubuntu0.1_amd64.deb ...\n",
            "Unpacking libtexlua53:amd64 (2021.20210626.59705-1ubuntu0.1) ...\n",
            "Selecting previously unselected package libtexluajit2:amd64.\n",
            "Preparing to unpack .../19-libtexluajit2_2021.20210626.59705-1ubuntu0.1_amd64.deb ...\n",
            "Unpacking libtexluajit2:amd64 (2021.20210626.59705-1ubuntu0.1) ...\n",
            "Selecting previously unselected package libzzip-0-13:amd64.\n",
            "Preparing to unpack .../20-libzzip-0-13_0.13.72+dfsg.1-1.1_amd64.deb ...\n",
            "Unpacking libzzip-0-13:amd64 (0.13.72+dfsg.1-1.1) ...\n",
            "Selecting previously unselected package xfonts-encodings.\n",
            "Preparing to unpack .../21-xfonts-encodings_1%3a1.0.5-0ubuntu2_all.deb ...\n",
            "Unpacking xfonts-encodings (1:1.0.5-0ubuntu2) ...\n",
            "Selecting previously unselected package xfonts-utils.\n",
            "Preparing to unpack .../22-xfonts-utils_1%3a7.7+6build2_amd64.deb ...\n",
            "Unpacking xfonts-utils (1:7.7+6build2) ...\n",
            "Selecting previously unselected package lmodern.\n",
            "Preparing to unpack .../23-lmodern_2.004.5-6.1_all.deb ...\n",
            "Unpacking lmodern (2.004.5-6.1) ...\n",
            "Selecting previously unselected package t1utils.\n",
            "Preparing to unpack .../24-t1utils_1.41-4build2_amd64.deb ...\n",
            "Unpacking t1utils (1.41-4build2) ...\n",
            "Selecting previously unselected package texlive-binaries.\n",
            "Preparing to unpack .../25-texlive-binaries_2021.20210626.59705-1ubuntu0.1_amd64.deb ...\n",
            "Unpacking texlive-binaries (2021.20210626.59705-1ubuntu0.1) ...\n",
            "Selecting previously unselected package texlive-base.\n",
            "Preparing to unpack .../26-texlive-base_2021.20220204-1_all.deb ...\n",
            "Unpacking texlive-base (2021.20220204-1) ...\n",
            "Selecting previously unselected package texlive-latex-base.\n",
            "Preparing to unpack .../27-texlive-latex-base_2021.20220204-1_all.deb ...\n",
            "Unpacking texlive-latex-base (2021.20220204-1) ...\n",
            "Selecting previously unselected package texlive-latex-recommended.\n",
            "Preparing to unpack .../28-texlive-latex-recommended_2021.20220204-1_all.deb ...\n",
            "Unpacking texlive-latex-recommended (2021.20220204-1) ...\n",
            "Setting up fonts-noto-mono (20201225-1build1) ...\n",
            "Setting up libwoff1:amd64 (1.0.2-1build4) ...\n",
            "Setting up libtexlua53:amd64 (2021.20210626.59705-1ubuntu0.1) ...\n",
            "Setting up libijs-0.35:amd64 (0.35-15build2) ...\n",
            "Setting up libtexluajit2:amd64 (2021.20210626.59705-1ubuntu0.1) ...\n",
            "Setting up libzzip-0-13:amd64 (0.13.72+dfsg.1-1.1) ...\n",
            "Setting up fonts-urw-base35 (20200910-1) ...\n",
            "Setting up poppler-data (0.4.11-1) ...\n",
            "Setting up tex-common (6.17) ...\n",
            "debconf: unable to initialize frontend: Dialog\n",
            "debconf: (No usable dialog-like program is installed, so the dialog based frontend cannot be used. at /usr/share/perl5/Debconf/FrontEnd/Dialog.pm line 78.)\n",
            "debconf: falling back to frontend: Readline\n",
            "update-language: texlive-base not installed and configured, doing nothing!\n",
            "Setting up libfontenc1:amd64 (1:1.1.4-1build3) ...\n",
            "Setting up libjbig2dec0:amd64 (0.19-3build2) ...\n",
            "Setting up libteckit0:amd64 (2.5.11+ds1-1) ...\n",
            "Setting up xfonts-encodings (1:1.0.5-0ubuntu2) ...\n",
            "Setting up t1utils (1.41-4build2) ...\n",
            "Setting up libidn12:amd64 (1.38-4ubuntu1) ...\n",
            "Setting up libkpathsea6:amd64 (2021.20210626.59705-1ubuntu0.1) ...\n",
            "Setting up fonts-lmodern (2.004.5-6.1) ...\n",
            "Setting up fonts-droid-fallback (1:6.0.1r16-1.1build1) ...\n",
            "Setting up libsynctex2:amd64 (2021.20210626.59705-1ubuntu0.1) ...\n",
            "Setting up libgs9-common (9.55.0~dfsg1-0ubuntu5.4) ...\n",
            "Setting up libgs9:amd64 (9.55.0~dfsg1-0ubuntu5.4) ...\n",
            "Setting up dvisvgm (2.13.1-1) ...\n",
            "Setting up xfonts-utils (1:7.7+6build2) ...\n",
            "Setting up libptexenc1:amd64 (2021.20210626.59705-1ubuntu0.1) ...\n",
            "Setting up texlive-binaries (2021.20210626.59705-1ubuntu0.1) ...\n",
            "update-alternatives: using /usr/bin/xdvi-xaw to provide /usr/bin/xdvi.bin (xdvi.bin) in auto mode\n",
            "update-alternatives: using /usr/bin/bibtex.original to provide /usr/bin/bibtex (bibtex) in auto mode\n",
            "Setting up lmodern (2.004.5-6.1) ...\n",
            "Setting up texlive-base (2021.20220204-1) ...\n",
            "/usr/bin/ucfr\n",
            "/usr/bin/ucfr\n",
            "/usr/bin/ucfr\n",
            "/usr/bin/ucfr\n",
            "mktexlsr: Updating /var/lib/texmf/ls-R-TEXLIVEDIST... \n",
            "mktexlsr: Updating /var/lib/texmf/ls-R-TEXMFMAIN... \n",
            "mktexlsr: Updating /var/lib/texmf/ls-R... \n",
            "mktexlsr: Done.\n",
            "tl-paper: setting paper size for dvips to a4: /var/lib/texmf/dvips/config/config-paper.ps\n",
            "tl-paper: setting paper size for dvipdfmx to a4: /var/lib/texmf/dvipdfmx/dvipdfmx-paper.cfg\n",
            "tl-paper: setting paper size for xdvi to a4: /var/lib/texmf/xdvi/XDvi-paper\n",
            "tl-paper: setting paper size for pdftex to a4: /var/lib/texmf/tex/generic/tex-ini-files/pdftexconfig.tex\n",
            "debconf: unable to initialize frontend: Dialog\n",
            "debconf: (No usable dialog-like program is installed, so the dialog based frontend cannot be used. at /usr/share/perl5/Debconf/FrontEnd/Dialog.pm line 78.)\n",
            "debconf: falling back to frontend: Readline\n",
            "Setting up texlive-latex-base (2021.20220204-1) ...\n",
            "Setting up texlive-latex-recommended (2021.20220204-1) ...\n",
            "Processing triggers for libc-bin (2.35-0ubuntu3.1) ...\n",
            "/sbin/ldconfig.real: /usr/local/lib/libtbbmalloc.so.2 is not a symbolic link\n",
            "\n",
            "/sbin/ldconfig.real: /usr/local/lib/libtbbmalloc_proxy.so.2 is not a symbolic link\n",
            "\n",
            "/sbin/ldconfig.real: /usr/local/lib/libtbbbind_2_0.so.3 is not a symbolic link\n",
            "\n",
            "/sbin/ldconfig.real: /usr/local/lib/libtbbbind_2_5.so.3 is not a symbolic link\n",
            "\n",
            "/sbin/ldconfig.real: /usr/local/lib/libtbb.so.12 is not a symbolic link\n",
            "\n",
            "/sbin/ldconfig.real: /usr/local/lib/libtbbbind.so.3 is not a symbolic link\n",
            "\n",
            "Processing triggers for man-db (2.10.2-1) ...\n",
            "Processing triggers for fontconfig (2.13.1-4.2ubuntu5) ...\n",
            "Processing triggers for tex-common (6.17) ...\n",
            "debconf: unable to initialize frontend: Dialog\n",
            "debconf: (No usable dialog-like program is installed, so the dialog based frontend cannot be used. at /usr/share/perl5/Debconf/FrontEnd/Dialog.pm line 78.)\n",
            "debconf: falling back to frontend: Readline\n",
            "Running updmap-sys. This may take some time... done.\n",
            "Running mktexlsr /var/lib/texmf ... done.\n",
            "Building format(s) --all.\n",
            "\tThis may take some time... done.\n",
            "Reading package lists... Done\n",
            "Building dependency tree... Done\n",
            "Reading state information... Done\n",
            "The following additional packages will be installed:\n",
            "  fonts-lato fonts-texgyre ghostscript libapache-pom-java\n",
            "  libcommons-logging-java libcommons-parent-java libfontbox-java\n",
            "  libpdfbox-java libruby3.0 preview-latex-style rake ruby ruby-net-telnet\n",
            "  ruby-rubygems ruby-webrick ruby-xmlrpc ruby3.0 rubygems-integration tex-gyre\n",
            "  texlive-pictures texlive-plain-generic tipa\n",
            "Suggested packages:\n",
            "  ghostscript-x libavalon-framework-java libcommons-logging-java-doc\n",
            "  libexcalibur-logkit-java liblog4j1.2-java ri ruby-dev bundler\n",
            "  texlive-fonts-recommended-doc python3-pygments icc-profiles\n",
            "  libfile-which-perl libspreadsheet-parseexcel-perl texlive-latex-extra-doc\n",
            "  dot2tex prerex texlive-pictures-doc vprerex default-jre-headless tipa-doc\n",
            "The following NEW packages will be installed:\n",
            "  dvipng fonts-lato fonts-texgyre ghostscript libapache-pom-java\n",
            "  libcommons-logging-java libcommons-parent-java libfontbox-java\n",
            "  libpdfbox-java libruby3.0 preview-latex-style rake ruby ruby-net-telnet\n",
            "  ruby-rubygems ruby-webrick ruby-xmlrpc ruby3.0 rubygems-integration tex-gyre\n",
            "  texlive-fonts-recommended texlive-latex-extra texlive-pictures\n",
            "  texlive-plain-generic tipa\n",
            "0 upgraded, 25 newly installed, 0 to remove and 19 not upgraded.\n",
            "Need to get 88.5 MB of archives.\n",
            "After this operation, 299 MB of additional disk space will be used.\n",
            "Get:1 http://archive.ubuntu.com/ubuntu jammy/main amd64 fonts-lato all 2.0-2.1 [2,696 kB]\n",
            "Get:2 http://archive.ubuntu.com/ubuntu jammy-updates/main amd64 ghostscript amd64 9.55.0~dfsg1-0ubuntu5.4 [49.4 kB]\n",
            "Get:3 http://archive.ubuntu.com/ubuntu jammy/universe amd64 dvipng amd64 1.15-1.1 [78.9 kB]\n",
            "Get:4 http://archive.ubuntu.com/ubuntu jammy/universe amd64 fonts-texgyre all 20180621-3.1 [10.2 MB]\n",
            "Get:5 http://archive.ubuntu.com/ubuntu jammy/universe amd64 libapache-pom-java all 18-1 [4,720 B]\n",
            "Get:6 http://archive.ubuntu.com/ubuntu jammy/universe amd64 libcommons-parent-java all 43-1 [10.8 kB]\n",
            "Get:7 http://archive.ubuntu.com/ubuntu jammy/universe amd64 libcommons-logging-java all 1.2-2 [60.3 kB]\n",
            "Get:8 http://archive.ubuntu.com/ubuntu jammy/main amd64 rubygems-integration all 1.18 [5,336 B]\n",
            "Get:9 http://archive.ubuntu.com/ubuntu jammy-updates/main amd64 ruby3.0 amd64 3.0.2-7ubuntu2.4 [50.1 kB]\n",
            "Get:10 http://archive.ubuntu.com/ubuntu jammy/main amd64 ruby-rubygems all 3.3.5-2 [228 kB]\n",
            "Get:11 http://archive.ubuntu.com/ubuntu jammy/main amd64 ruby amd64 1:3.0~exp1 [5,100 B]\n",
            "Get:12 http://archive.ubuntu.com/ubuntu jammy/main amd64 rake all 13.0.6-2 [61.7 kB]\n",
            "Get:13 http://archive.ubuntu.com/ubuntu jammy/main amd64 ruby-net-telnet all 0.1.1-2 [12.6 kB]\n",
            "Get:14 http://archive.ubuntu.com/ubuntu jammy/universe amd64 ruby-webrick all 1.7.0-3 [51.8 kB]\n",
            "Get:15 http://archive.ubuntu.com/ubuntu jammy-updates/main amd64 ruby-xmlrpc all 0.3.2-1ubuntu0.1 [24.9 kB]\n",
            "Get:16 http://archive.ubuntu.com/ubuntu jammy-updates/main amd64 libruby3.0 amd64 3.0.2-7ubuntu2.4 [5,113 kB]\n",
            "Get:17 http://archive.ubuntu.com/ubuntu jammy/universe amd64 preview-latex-style all 12.2-1ubuntu1 [185 kB]\n",
            "Get:18 http://archive.ubuntu.com/ubuntu jammy/universe amd64 tex-gyre all 20180621-3.1 [6,209 kB]\n",
            "Get:19 http://archive.ubuntu.com/ubuntu jammy/universe amd64 texlive-fonts-recommended all 2021.20220204-1 [4,972 kB]\n",
            "Get:20 http://archive.ubuntu.com/ubuntu jammy/universe amd64 libfontbox-java all 1:1.8.16-2 [207 kB]\n",
            "Get:21 http://archive.ubuntu.com/ubuntu jammy/universe amd64 libpdfbox-java all 1:1.8.16-2 [5,199 kB]\n",
            "Get:22 http://archive.ubuntu.com/ubuntu jammy/universe amd64 texlive-pictures all 2021.20220204-1 [8,720 kB]\n",
            "Get:23 http://archive.ubuntu.com/ubuntu jammy/universe amd64 texlive-latex-extra all 2021.20220204-1 [13.9 MB]\n",
            "Get:24 http://archive.ubuntu.com/ubuntu jammy/universe amd64 texlive-plain-generic all 2021.20220204-1 [27.5 MB]\n",
            "Get:25 http://archive.ubuntu.com/ubuntu jammy/universe amd64 tipa all 2:1.3-21 [2,967 kB]\n",
            "Fetched 88.5 MB in 14s (6,184 kB/s)\n",
            "debconf: unable to initialize frontend: Dialog\n",
            "debconf: (No usable dialog-like program is installed, so the dialog based frontend cannot be used. at /usr/share/perl5/Debconf/FrontEnd/Dialog.pm line 78, <> line 25.)\n",
            "debconf: falling back to frontend: Readline\n",
            "debconf: unable to initialize frontend: Readline\n",
            "debconf: (This frontend requires a controlling tty.)\n",
            "debconf: falling back to frontend: Teletype\n",
            "dpkg-preconfigure: unable to re-open stdin: \n",
            "Selecting previously unselected package fonts-lato.\n",
            "(Reading database ... 130407 files and directories currently installed.)\n",
            "Preparing to unpack .../00-fonts-lato_2.0-2.1_all.deb ...\n",
            "Unpacking fonts-lato (2.0-2.1) ...\n",
            "Selecting previously unselected package ghostscript.\n",
            "Preparing to unpack .../01-ghostscript_9.55.0~dfsg1-0ubuntu5.4_amd64.deb ...\n",
            "Unpacking ghostscript (9.55.0~dfsg1-0ubuntu5.4) ...\n",
            "Selecting previously unselected package dvipng.\n",
            "Preparing to unpack .../02-dvipng_1.15-1.1_amd64.deb ...\n",
            "Unpacking dvipng (1.15-1.1) ...\n",
            "Selecting previously unselected package fonts-texgyre.\n",
            "Preparing to unpack .../03-fonts-texgyre_20180621-3.1_all.deb ...\n",
            "Unpacking fonts-texgyre (20180621-3.1) ...\n",
            "Selecting previously unselected package libapache-pom-java.\n",
            "Preparing to unpack .../04-libapache-pom-java_18-1_all.deb ...\n",
            "Unpacking libapache-pom-java (18-1) ...\n",
            "Selecting previously unselected package libcommons-parent-java.\n",
            "Preparing to unpack .../05-libcommons-parent-java_43-1_all.deb ...\n",
            "Unpacking libcommons-parent-java (43-1) ...\n",
            "Selecting previously unselected package libcommons-logging-java.\n",
            "Preparing to unpack .../06-libcommons-logging-java_1.2-2_all.deb ...\n",
            "Unpacking libcommons-logging-java (1.2-2) ...\n",
            "Selecting previously unselected package rubygems-integration.\n",
            "Preparing to unpack .../07-rubygems-integration_1.18_all.deb ...\n",
            "Unpacking rubygems-integration (1.18) ...\n",
            "Selecting previously unselected package ruby3.0.\n",
            "Preparing to unpack .../08-ruby3.0_3.0.2-7ubuntu2.4_amd64.deb ...\n",
            "Unpacking ruby3.0 (3.0.2-7ubuntu2.4) ...\n",
            "Selecting previously unselected package ruby-rubygems.\n",
            "Preparing to unpack .../09-ruby-rubygems_3.3.5-2_all.deb ...\n",
            "Unpacking ruby-rubygems (3.3.5-2) ...\n",
            "Selecting previously unselected package ruby.\n",
            "Preparing to unpack .../10-ruby_1%3a3.0~exp1_amd64.deb ...\n",
            "Unpacking ruby (1:3.0~exp1) ...\n",
            "Selecting previously unselected package rake.\n",
            "Preparing to unpack .../11-rake_13.0.6-2_all.deb ...\n",
            "Unpacking rake (13.0.6-2) ...\n",
            "Selecting previously unselected package ruby-net-telnet.\n",
            "Preparing to unpack .../12-ruby-net-telnet_0.1.1-2_all.deb ...\n",
            "Unpacking ruby-net-telnet (0.1.1-2) ...\n",
            "Selecting previously unselected package ruby-webrick.\n",
            "Preparing to unpack .../13-ruby-webrick_1.7.0-3_all.deb ...\n",
            "Unpacking ruby-webrick (1.7.0-3) ...\n",
            "Selecting previously unselected package ruby-xmlrpc.\n",
            "Preparing to unpack .../14-ruby-xmlrpc_0.3.2-1ubuntu0.1_all.deb ...\n",
            "Unpacking ruby-xmlrpc (0.3.2-1ubuntu0.1) ...\n",
            "Selecting previously unselected package libruby3.0:amd64.\n",
            "Preparing to unpack .../15-libruby3.0_3.0.2-7ubuntu2.4_amd64.deb ...\n",
            "Unpacking libruby3.0:amd64 (3.0.2-7ubuntu2.4) ...\n",
            "Selecting previously unselected package preview-latex-style.\n",
            "Preparing to unpack .../16-preview-latex-style_12.2-1ubuntu1_all.deb ...\n",
            "Unpacking preview-latex-style (12.2-1ubuntu1) ...\n",
            "Selecting previously unselected package tex-gyre.\n",
            "Preparing to unpack .../17-tex-gyre_20180621-3.1_all.deb ...\n",
            "Unpacking tex-gyre (20180621-3.1) ...\n",
            "Selecting previously unselected package texlive-fonts-recommended.\n",
            "Preparing to unpack .../18-texlive-fonts-recommended_2021.20220204-1_all.deb ...\n",
            "Unpacking texlive-fonts-recommended (2021.20220204-1) ...\n",
            "Selecting previously unselected package libfontbox-java.\n",
            "Preparing to unpack .../19-libfontbox-java_1%3a1.8.16-2_all.deb ...\n",
            "Unpacking libfontbox-java (1:1.8.16-2) ...\n",
            "Selecting previously unselected package libpdfbox-java.\n",
            "Preparing to unpack .../20-libpdfbox-java_1%3a1.8.16-2_all.deb ...\n",
            "Unpacking libpdfbox-java (1:1.8.16-2) ...\n",
            "Selecting previously unselected package texlive-pictures.\n",
            "Preparing to unpack .../21-texlive-pictures_2021.20220204-1_all.deb ...\n",
            "Unpacking texlive-pictures (2021.20220204-1) ...\n",
            "Selecting previously unselected package texlive-latex-extra.\n",
            "Preparing to unpack .../22-texlive-latex-extra_2021.20220204-1_all.deb ...\n",
            "Unpacking texlive-latex-extra (2021.20220204-1) ...\n",
            "Selecting previously unselected package texlive-plain-generic.\n",
            "Preparing to unpack .../23-texlive-plain-generic_2021.20220204-1_all.deb ...\n",
            "Unpacking texlive-plain-generic (2021.20220204-1) ...\n",
            "Selecting previously unselected package tipa.\n",
            "Preparing to unpack .../24-tipa_2%3a1.3-21_all.deb ...\n",
            "Unpacking tipa (2:1.3-21) ...\n",
            "Setting up fonts-lato (2.0-2.1) ...\n",
            "Setting up preview-latex-style (12.2-1ubuntu1) ...\n",
            "Setting up libfontbox-java (1:1.8.16-2) ...\n",
            "Setting up texlive-plain-generic (2021.20220204-1) ...\n",
            "Setting up rubygems-integration (1.18) ...\n",
            "Setting up ghostscript (9.55.0~dfsg1-0ubuntu5.4) ...\n",
            "Setting up libapache-pom-java (18-1) ...\n",
            "Setting up ruby-net-telnet (0.1.1-2) ...\n",
            "Setting up fonts-texgyre (20180621-3.1) ...\n",
            "Setting up texlive-pictures (2021.20220204-1) ...\n",
            "Setting up ruby-webrick (1.7.0-3) ...\n",
            "Setting up texlive-fonts-recommended (2021.20220204-1) ...\n",
            "Setting up tipa (2:1.3-21) ...\n",
            "Setting up ruby-xmlrpc (0.3.2-1ubuntu0.1) ...\n",
            "Setting up tex-gyre (20180621-3.1) ...\n",
            "Setting up libpdfbox-java (1:1.8.16-2) ...\n",
            "Setting up dvipng (1.15-1.1) ...\n",
            "Setting up libcommons-parent-java (43-1) ...\n",
            "Setting up libcommons-logging-java (1.2-2) ...\n",
            "Setting up texlive-latex-extra (2021.20220204-1) ...\n",
            "Setting up libruby3.0:amd64 (3.0.2-7ubuntu2.4) ...\n",
            "Setting up ruby3.0 (3.0.2-7ubuntu2.4) ...\n",
            "Setting up ruby (1:3.0~exp1) ...\n",
            "Setting up rake (13.0.6-2) ...\n",
            "Setting up ruby-rubygems (3.3.5-2) ...\n",
            "Processing triggers for man-db (2.10.2-1) ...\n",
            "Processing triggers for tex-common (6.17) ...\n",
            "debconf: unable to initialize frontend: Dialog\n",
            "debconf: (No usable dialog-like program is installed, so the dialog based frontend cannot be used. at /usr/share/perl5/Debconf/FrontEnd/Dialog.pm line 78.)\n",
            "debconf: falling back to frontend: Readline\n",
            "Running mktexlsr. This may take some time... done.\n",
            "Running updmap-sys. This may take some time... done.\n",
            "Running mktexlsr /var/lib/texmf ... done.\n",
            "Building format(s) --all.\n",
            "\tThis may take some time... done.\n",
            "Processing triggers for fontconfig (2.13.1-4.2ubuntu5) ...\n",
            "Processing triggers for libc-bin (2.35-0ubuntu3.1) ...\n",
            "/sbin/ldconfig.real: /usr/local/lib/libtbbmalloc.so.2 is not a symbolic link\n",
            "\n",
            "/sbin/ldconfig.real: /usr/local/lib/libtbbmalloc_proxy.so.2 is not a symbolic link\n",
            "\n",
            "/sbin/ldconfig.real: /usr/local/lib/libtbbbind_2_0.so.3 is not a symbolic link\n",
            "\n",
            "/sbin/ldconfig.real: /usr/local/lib/libtbbbind_2_5.so.3 is not a symbolic link\n",
            "\n",
            "/sbin/ldconfig.real: /usr/local/lib/libtbb.so.12 is not a symbolic link\n",
            "\n",
            "/sbin/ldconfig.real: /usr/local/lib/libtbbbind.so.3 is not a symbolic link\n",
            "\n",
            "--2023-10-01 17:47:18--  http://mirrors.ctan.org/macros/latex/...\n",
            "Resolving mirrors.ctan.org (mirrors.ctan.org)... 89.58.7.101\n",
            "Connecting to mirrors.ctan.org (mirrors.ctan.org)|89.58.7.101|:80... connected.\n",
            "HTTP request sent, awaiting response... 302 Found\n",
            "Location: https://ctan.mirror.twds.com.tw/tex-archive/macros/latex/... [following]\n",
            "--2023-10-01 17:47:18--  https://ctan.mirror.twds.com.tw/tex-archive/macros/latex/...\n",
            "Resolving ctan.mirror.twds.com.tw (ctan.mirror.twds.com.tw)... 103.147.22.34\n",
            "Connecting to ctan.mirror.twds.com.tw (ctan.mirror.twds.com.tw)|103.147.22.34|:443... connected.\n",
            "HTTP request sent, awaiting response... 404 Not Found\n",
            "2023-10-01 17:47:18 ERROR 404: Not Found.\n",
            "\n",
            "unzip:  cannot find or open type1cm.zip, type1cm.zip.zip or type1cm.zip.ZIP.\n",
            "/bin/bash: line 1: cd: /tmp/type1cm/type1cm/: No such file or directory\n",
            "cp: cannot stat '/tmp/type1cm/type1cm/type1cm.sty': No such file or directory\n",
            "texhash: Updating /usr/local/share/texmf/ls-R... \n",
            "texhash: Updating /var/lib/texmf/ls-R-TEXLIVEDIST... \n",
            "texhash: Updating /var/lib/texmf/ls-R-TEXMFMAIN... \n",
            "texhash: Updating /var/lib/texmf/ls-R... \n",
            "texhash: Done.\n",
            "Reading package lists... Done\n",
            "Building dependency tree... Done\n",
            "Reading state information... Done\n",
            "The following additional packages will be installed:\n",
            "  cm-super-minimal pfb2t1c2pfb\n",
            "The following NEW packages will be installed:\n",
            "  cm-super cm-super-minimal pfb2t1c2pfb\n",
            "0 upgraded, 3 newly installed, 0 to remove and 19 not upgraded.\n",
            "Need to get 26.0 MB of archives.\n",
            "After this operation, 59.9 MB of additional disk space will be used.\n",
            "Get:1 http://archive.ubuntu.com/ubuntu jammy/universe amd64 cm-super-minimal all 0.3.4-17 [5,777 kB]\n",
            "Get:2 http://archive.ubuntu.com/ubuntu jammy/universe amd64 pfb2t1c2pfb amd64 0.3-11 [9,342 B]\n",
            "Get:3 http://archive.ubuntu.com/ubuntu jammy/universe amd64 cm-super all 0.3.4-17 [20.2 MB]\n",
            "Fetched 26.0 MB in 4s (6,127 kB/s)\n",
            "Selecting previously unselected package cm-super-minimal.\n",
            "(Reading database ... 157218 files and directories currently installed.)\n",
            "Preparing to unpack .../cm-super-minimal_0.3.4-17_all.deb ...\n",
            "Unpacking cm-super-minimal (0.3.4-17) ...\n",
            "Selecting previously unselected package pfb2t1c2pfb.\n",
            "Preparing to unpack .../pfb2t1c2pfb_0.3-11_amd64.deb ...\n",
            "Unpacking pfb2t1c2pfb (0.3-11) ...\n",
            "Selecting previously unselected package cm-super.\n",
            "Preparing to unpack .../cm-super_0.3.4-17_all.deb ...\n",
            "Unpacking cm-super (0.3.4-17) ...\n",
            "Setting up pfb2t1c2pfb (0.3-11) ...\n",
            "Setting up cm-super-minimal (0.3.4-17) ...\n",
            "Setting up cm-super (0.3.4-17) ...\n",
            "Creating fonts. This may take some time... done.\n",
            "Processing triggers for man-db (2.10.2-1) ...\n",
            "Processing triggers for tex-common (6.17) ...\n",
            "Running mktexlsr. This may take some time... done.\n",
            "Running updmap-sys. This may take some time... done.\n",
            "Running mktexlsr /var/lib/texmf ... done.\n",
            "Processing triggers for fontconfig (2.13.1-4.2ubuntu5) ...\n"
          ]
        }
      ]
    },
    {
      "cell_type": "code",
      "execution_count": 2,
      "metadata": {
        "colab": {
          "base_uri": "https://localhost:8080/"
        },
        "id": "GXSC_ZCb4sd2",
        "outputId": "a5df45fc-d252-4525-999e-8670401ad886"
      },
      "outputs": [
        {
          "output_type": "stream",
          "name": "stdout",
          "text": [
            "Collecting PyLaTeX\n",
            "  Downloading PyLaTeX-1.4.1.tar.gz (84 kB)\n",
            "\u001b[?25l     \u001b[90m━━━━━━━━━━━━━━━━━━━━━━━━━━━━━━━━━━━━━━━━\u001b[0m \u001b[32m0.0/85.0 kB\u001b[0m \u001b[31m?\u001b[0m eta \u001b[36m-:--:--\u001b[0m\r\u001b[2K     \u001b[91m━━━━━━━━━━━━━━━━━━━━━━━━━━━━━━━━━━━━━━\u001b[0m\u001b[91m╸\u001b[0m\u001b[90m━\u001b[0m \u001b[32m81.9/85.0 kB\u001b[0m \u001b[31m2.6 MB/s\u001b[0m eta \u001b[36m0:00:01\u001b[0m\r\u001b[2K     \u001b[90m━━━━━━━━━━━━━━━━━━━━━━━━━━━━━━━━━━━━━━━━\u001b[0m \u001b[32m85.0/85.0 kB\u001b[0m \u001b[31m2.1 MB/s\u001b[0m eta \u001b[36m0:00:00\u001b[0m\n",
            "\u001b[?25h  Preparing metadata (setup.py) ... \u001b[?25l\u001b[?25hdone\n",
            "Collecting ordered-set (from PyLaTeX)\n",
            "  Downloading ordered_set-4.1.0-py3-none-any.whl (7.6 kB)\n",
            "Building wheels for collected packages: PyLaTeX\n",
            "  Building wheel for PyLaTeX (setup.py) ... \u001b[?25l\u001b[?25hdone\n",
            "  Created wheel for PyLaTeX: filename=PyLaTeX-1.4.1-py3-none-any.whl size=42790 sha256=b4d10ecfae7bdbbb5e88b31666b42805cc6dbb5cda16728f4de81762c2012381\n",
            "  Stored in directory: /root/.cache/pip/wheels/7d/6d/a1/716565cec073a7ccebc1eb9a7c061658a75d5559c16f0ee875\n",
            "Successfully built PyLaTeX\n",
            "Installing collected packages: ordered-set, PyLaTeX\n",
            "Successfully installed PyLaTeX-1.4.1 ordered-set-4.1.0\n",
            "Requirement already satisfied: pylatex[matrices] in /usr/local/lib/python3.10/dist-packages (1.4.1)\n",
            "Requirement already satisfied: ordered-set in /usr/local/lib/python3.10/dist-packages (from pylatex[matrices]) (4.1.0)\n",
            "Requirement already satisfied: numpy in /usr/local/lib/python3.10/dist-packages (from pylatex[matrices]) (1.23.5)\n"
          ]
        }
      ],
      "source": [
        "!pip install PyLaTeX\n",
        "!pip install pylatex[matrices]"
      ]
    },
    {
      "cell_type": "markdown",
      "source": [
        "## Sections"
      ],
      "metadata": {
        "id": "70_HNgTjVjEs"
      }
    },
    {
      "cell_type": "code",
      "source": [
        "import matplotlib\n",
        "from pylatex import Document, Section, Subsection, Command, Figure, SubFigure, Math\n",
        "from pylatex.utils import italic, NoEscape\n",
        "\n",
        "matplotlib.use('Agg')\n",
        "import matplotlib.pyplot as plt\n",
        "%matplotlib inline\n",
        "\n",
        "import os\n",
        "\n",
        "import numpy as np"
      ],
      "metadata": {
        "id": "fFKnNaoW2wu-"
      },
      "execution_count": 30,
      "outputs": []
    },
    {
      "cell_type": "code",
      "source": [
        "class Fact:\n",
        "  title = \"\"\n",
        "  text = \"\"\n",
        "  figureName = \"\"\n",
        "  figurePath = \"\"\n",
        "  growthName = \"\"\n",
        "  growth = \"\"\n",
        "\n",
        "def GetFigurePath(name):\n",
        "   return os.path.join(os.path.dirname(\"./\"), name)"
      ],
      "metadata": {
        "id": "TfZAJB9cVipS"
      },
      "execution_count": 31,
      "outputs": []
    },
    {
      "cell_type": "markdown",
      "source": [
        "### Resumen"
      ],
      "metadata": {
        "id": "PQ9nvPFnVnv7"
      }
    },
    {
      "cell_type": "code",
      "source": [
        "resumen = Fact()\n",
        "resumen.text = \"La empresa Cisco presenta el reporte anual de internet que muestra las principales tendencias en cuanto al uso y alcance. Además, se muestran datos relacionados con el uso de dispositivos móviles y tecnologías emergentes y ya establecidas como las redes móviles 4G y 5G.\""
      ],
      "metadata": {
        "id": "rRPFt2WCpSj7"
      },
      "execution_count": 32,
      "outputs": []
    },
    {
      "cell_type": "markdown",
      "source": [
        "### Internet adopcion"
      ],
      "metadata": {
        "id": "zrBvcBhXvDgJ"
      }
    },
    {
      "cell_type": "markdown",
      "source": [
        "#### Internet users"
      ],
      "metadata": {
        "id": "DcU7K1TUdSyz"
      }
    },
    {
      "cell_type": "code",
      "source": [
        "intAdoption = Fact()\n",
        "intAdoption.title = \"Adopción global de internet\"\n",
        "intAdoption.text = \"Se evidencia un constante crecimiento en el número de usuarios en la figura 1, en la figura 2 se muestran los porcentajes de crecimiento evidenciando un declive en el crecimiento entre 2020 y 2021 a pesar de la adopción del enfoque remoto durante la pandemia por COVID -19. Desde el 2018 se evidencia un crecimiento de aproximadamente un 35% desmostrando el gran incremento de los usuarios en internet.\"\n",
        "intAdoption.figureName = \"intAdoption.png\"\n",
        "intAdoption.growthName = \"internetCrecimiento.png\"\n",
        "\n",
        "## plot chart\n",
        "years = [\"2018\", \"2019\", \"2020\", \"2021\", \"2022\", \"2023\"]\n",
        "users = [3.9, 4.2, 4.5, 4.7, 5.0, 5.3]  # miles de millones\n",
        "\n",
        "figure, ax = plt.subplots()\n",
        "\n",
        "container = ax.bar(years, users)\n",
        "ax.bar_label(container, fmt=lambda x: f'{x} M')\n",
        "\n",
        "ax.set_ylabel('Million users')\n",
        "ax.set_title('Usuarios de internet')\n",
        "\n",
        "plt.show()\n",
        "\n",
        "figure.savefig(intAdoption.figureName)\n",
        "intAdoption.figurePath = GetFigurePath(intAdoption.figureName)"
      ],
      "metadata": {
        "colab": {
          "base_uri": "https://localhost:8080/",
          "height": 0
        },
        "id": "AV9lQEA3vKUS",
        "outputId": "95136688-7f6c-46ec-8e46-f5fa5fb86724"
      },
      "execution_count": 33,
      "outputs": [
        {
          "output_type": "display_data",
          "data": {
            "text/plain": [
              "<Figure size 640x480 with 1 Axes>"
            ],
            "image/png": "[encoded data removed]"
          },
          "metadata": {}
        }
      ]
    },
    {
      "cell_type": "code",
      "source": [
        "growth_rates = [((users[i] - users[i - 1]) / users[i - 1]) * 100 for i in range(1, len(users))]\n",
        "\n",
        "plt.clf()\n",
        "# Crear el gráfico\n",
        "plt.plot(years[1:], growth_rates, marker='o', linestyle='-')\n",
        "plt.title('Porcentaje de Crecimiento Anual de Usuarios en Internet')\n",
        "plt.xlabel('Año')\n",
        "plt.ylabel('Porcentaje de Crecimiento')\n",
        "plt.grid(True)\n",
        "\n",
        "# Guardar la figura\n",
        "plt.savefig(intAdoption.growthName)\n",
        "\n",
        "intAdoption.growthPath = GetFigurePath(intAdoption.growthName)\n",
        "\n",
        "# Mostrar el gráfico\n",
        "plt.show()"
      ],
      "metadata": {
        "colab": {
          "base_uri": "https://localhost:8080/",
          "height": 0
        },
        "id": "6yZlc1y46Mey",
        "outputId": "be51a883-9188-4894-ef27-dc1f8903c715"
      },
      "execution_count": 34,
      "outputs": [
        {
          "output_type": "display_data",
          "data": {
            "text/plain": [
              "<Figure size 640x480 with 1 Axes>"
            ],
            "image/png": "[encoded data removed]"
          },
          "metadata": {}
        }
      ]
    },
    {
      "cell_type": "markdown",
      "source": [
        "#### Devices and connections"
      ],
      "metadata": {
        "id": "EBTdkuEldLMD"
      }
    },
    {
      "cell_type": "code",
      "source": [
        "intDevices = Fact()\n",
        "intDevices.title = \"Uso de dispositivos\"\n",
        "intDevices.text = \"Los dispositivos conectados directamente a internet en 2023 han aumentado en un 56.38% respecto a 2018, lo cual es un porcentaje significativamente y relevante, sin embargo, no se compara con el aumento del 185.2% de los dispositivos maquina a maquina (M2M), esto por el aumento en los dispositivos IoT en diversas áreas como el hogar, vehículos, monitores, cámaras de vigilancia. Esto demuestra la importancia de los dispositivos inteligentes en nuestro día a día.\"\n",
        "intDevices.figureName = \"intDevices.png\"\n",
        "intDevices.growthName = \"intDevicesGrowth.png\"\n",
        "\n",
        "## plot chart\n",
        "years = (\"2018\", \"2023\")\n",
        "devices_counts = {\n",
        "    \"IP\": np.array([18.8, 29.3]),\n",
        "    \"M2M\": np.array([5.14, 14.7]),\n",
        "}\n",
        "width = 0.5\n",
        "\n",
        "figure, ax = plt.subplots()\n",
        "bottom = np.zeros(2)\n",
        "\n",
        "for boolean, devices_count in devices_counts.items():\n",
        "    p = ax.bar(years, devices_count, width, label=boolean, bottom=bottom)\n",
        "    bottom += devices_count\n",
        "    ax.bar_label(p, label_type='center')\n",
        "\n",
        "ax.set_title(\"Número de dispositivos\")\n",
        "ax.set_ylabel(\"Millones\")\n",
        "ax.legend(loc=\"upper right\")\n",
        "\n",
        "plt.show()\n",
        "\n",
        "figure.savefig(intDevices.figureName)\n",
        "intDevices.figurePath = GetFigurePath(intDevices.figureName)"
      ],
      "metadata": {
        "colab": {
          "base_uri": "https://localhost:8080/",
          "height": 453
        },
        "id": "6OVlizExdPIM",
        "outputId": "96684b50-e905-4cb1-dc6f-dc58bdc2b6f2"
      },
      "execution_count": 35,
      "outputs": [
        {
          "output_type": "display_data",
          "data": {
            "text/plain": [
              "<Figure size 640x480 with 1 Axes>"
            ],
            "image/png": "[encoded data removed]"
          },
          "metadata": {}
        }
      ]
    },
    {
      "cell_type": "markdown",
      "source": [
        "### Internet performance"
      ],
      "metadata": {
        "id": "UStwchW9I7oT"
      }
    },
    {
      "cell_type": "code",
      "source": [
        "intPerformance = Fact()\n",
        "intPerformance.title = \"Desempeño global de la red\"\n",
        "intPerformance.text = \"Los avances tecnológicos han elevado considerablemente la velocidad de internet, las velocidades en Mbps han llegado a duplicarse en las conexiones fijas, de mobil y wifi. Pero el caso más importante ha sido la velocidad en la tecnología 5G que a aumentado en 13 veces su velocidad mostrando el importante papel que cumple en el internet.\"\n",
        "intPerformance.figureName = \"intPerformance.png\"\n",
        "intPerformance.growthName = \"intPerformanceGrowth.png\"\n",
        "\n",
        "aspects = (\"Broadband\", \"Mobile\", \"5G\", \"Wi-Fi\")\n",
        "expectedIncrease = {\n",
        "    '2018': (45.9, 13.2, 44.2, 30.3),\n",
        "    '2023': (110.4, 43.9, 575, 92),\n",
        "}\n",
        "\n",
        "x = np.arange(len(aspects))  # the label locations\n",
        "width = 0.25  # the width of the bars\n",
        "multiplier = 0\n",
        "\n",
        "figure, ax = plt.subplots(layout='constrained')\n",
        "\n",
        "for attribute, measurement in expectedIncrease.items():\n",
        "    offset = width * multiplier\n",
        "    rects = ax.bar(x + offset, measurement, width, label=attribute)\n",
        "    ax.bar_label(rects, padding=3)\n",
        "    multiplier += 1\n",
        "\n",
        "ax.set_ylabel('Mbps')\n",
        "ax.set_title('Comparación de velocidad de internet')\n",
        "ax.set_xticks(x + width, aspects)\n",
        "ax.legend(loc='upper left', ncols=3)\n",
        "\n",
        "plt.show()\n",
        "\n",
        "figure.savefig(intPerformance.figureName)\n",
        "intPerformance.figurePath = GetFigurePath(intPerformance.figureName)"
      ],
      "metadata": {
        "colab": {
          "base_uri": "https://localhost:8080/",
          "height": 491
        },
        "id": "HYrBsbYPI_dV",
        "outputId": "6d594fef-5331-4668-a920-df36cfb8920c"
      },
      "execution_count": 36,
      "outputs": [
        {
          "output_type": "display_data",
          "data": {
            "text/plain": [
              "<Figure size 640x480 with 1 Axes>"
            ],
            "image/png": "[encoded data removed]"
          },
          "metadata": {}
        }
      ]
    },
    {
      "cell_type": "markdown",
      "source": [
        "###"
      ],
      "metadata": {
        "id": "XjjBf4jHcbK8"
      }
    },
    {
      "cell_type": "markdown",
      "source": [
        "## Document fill"
      ],
      "metadata": {
        "id": "twu31OP350df"
      }
    },
    {
      "cell_type": "code",
      "source": [
        "def fill_document(doc, fname, width, *args, **kwargs):\n",
        "    doc.append(resumen.text)\n",
        "\n",
        "    ## Internet adoption\n",
        "    with doc.create(Section(intAdoption.title)):\n",
        "      doc.append(intAdoption.text)\n",
        "      with doc.create(Figure(position='h!')) as intAdoptionFig:\n",
        "            with doc.create(SubFigure(\n",
        "                    position='b',\n",
        "                    width=NoEscape(r'0.45\\linewidth'))) as figure:\n",
        "\n",
        "                figure.add_image(intAdoption.figurePath,\n",
        "                                      width=NoEscape(r'\\linewidth'))\n",
        "                figure.add_caption('Usuarios de internet')\n",
        "            with doc.create(SubFigure(\n",
        "                    position='b',\n",
        "                    width=NoEscape(r'0.45\\linewidth'))) as growth:\n",
        "\n",
        "                growth.add_image(intAdoption.growthPath,\n",
        "                                       width=NoEscape(r'\\linewidth'))\n",
        "                growth.add_caption('Porcentaje crecimiento')\n",
        "            intAdoptionFig.add_caption(\"Crecimiento de usuarios en internet\")\n",
        "\n",
        "      ### Devices and connetions\n",
        "      with doc.create(Subsection(intDevices.title)):\n",
        "        doc.append(intDevices.text)\n",
        "        with doc.create(Figure(position='h!')) as intDevicesFig:\n",
        "            intDevicesFig.add_image(intDevices.figurePath, width='200px')\n",
        "            intDevicesFig.add_caption(\"Dispositivos internet\")\n",
        "\n",
        "    ## Internet performance\n",
        "    with doc.create(Section(intPerformance.title)):\n",
        "      doc.append(intPerformance.text)\n",
        "      with doc.create(Figure(position='h!')) as intPerformanceFig:\n",
        "            intPerformanceFig.add_image(intPerformance.figurePath, width='200px')\n",
        "            intPerformanceFig.add_caption(\"Aumento desempeño de internet\")\n"
      ],
      "metadata": {
        "id": "W-PDRNYyEf_-"
      },
      "execution_count": 37,
      "outputs": []
    },
    {
      "cell_type": "code",
      "source": [
        "if __name__ == '__main__':\n",
        "    # Document with `\\maketitle` command activated\n",
        "    doc = Document()\n",
        "\n",
        "    doc.preamble.append(Command('title', 'Análisis de reporte anual de internet de Cisco'))\n",
        "    doc.preamble.append(Command('author', 'Erick Carrasco'))\n",
        "    doc.preamble.append(Command('date', NoEscape(r'\\today')))\n",
        "    doc.append(NoEscape(r'\\maketitle'))\n",
        "\n",
        "    fill_document(doc,'matplotlib_ex-dpi', r'1\\textwidth', dpi=300)\n",
        "\n",
        "    doc.generate_pdf('report', clean_tex=False)"
      ],
      "metadata": {
        "id": "fHv1jlzUGaNI"
      },
      "execution_count": 38,
      "outputs": []
    },
    {
      "cell_type": "code",
      "source": [
        "from google.colab import files\n",
        "files.download(\"report.pdf\")"
      ],
      "metadata": {
        "colab": {
          "base_uri": "https://localhost:8080/",
          "height": 17
        },
        "id": "aoIdfLzqEtn3",
        "outputId": "ccf61697-7b8b-4bb4-9087-cd4b795f70d9"
      },
      "execution_count": 39,
      "outputs": [
        {
          "output_type": "display_data",
          "data": {
            "text/plain": [
              "<IPython.core.display.Javascript object>"
            ],
            "application/javascript": [
              "\n",
              "    async function download(id, filename, size) {\n",
              "      if (!google.colab.kernel.accessAllowed) {\n",
              "        return;\n",
              "      }\n",
              "      const div = document.createElement('div');\n",
              "      const label = document.createElement('label');\n",
              "      label.textContent = `Downloading \"${filename}\": `;\n",
              "      div.appendChild(label);\n",
              "      const progress = document.createElement('progress');\n",
              "      progress.max = size;\n",
              "      div.appendChild(progress);\n",
              "      document.body.appendChild(div);\n",
              "\n",
              "      const buffers = [];\n",
              "      let downloaded = 0;\n",
              "\n",
              "      const channel = await google.colab.kernel.comms.open(id);\n",
              "      // Send a message to notify the kernel that we're ready.\n",
              "      channel.send({})\n",
              "\n",
              "      for await (const message of channel.messages) {\n",
              "        // Send a message to notify the kernel that we're ready.\n",
              "        channel.send({})\n",
              "        if (message.buffers) {\n",
              "          for (const buffer of message.buffers) {\n",
              "            buffers.push(buffer);\n",
              "            downloaded += buffer.byteLength;\n",
              "            progress.value = downloaded;\n",
              "          }\n",
              "        }\n",
              "      }\n",
              "      const blob = new Blob(buffers, {type: 'application/binary'});\n",
              "      const a = document.createElement('a');\n",
              "      a.href = window.URL.createObjectURL(blob);\n",
              "      a.download = filename;\n",
              "      div.appendChild(a);\n",
              "      a.click();\n",
              "      div.remove();\n",
              "    }\n",
              "  "
            ]
          },
          "metadata": {}
        },
        {
          "output_type": "display_data",
          "data": {
            "text/plain": [
              "<IPython.core.display.Javascript object>"
            ],
            "application/javascript": [
              "download(\"download_d818599f-38f0-4990-bb83-60d788695515\", \"report.pdf\", 201381)"
            ]
          },
          "metadata": {}
        }
      ]
    }
  ]
}